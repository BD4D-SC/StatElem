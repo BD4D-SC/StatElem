{
 "cells": [
  {
   "cell_type": "markdown",
   "metadata": {},
   "source": [
    "<center>\n",
    "<a href=\"http://www.insa-toulouse.fr/\" ><img src=\"http://www.math.univ-toulouse.fr/~besse/Wikistat/Images/logo-insa.jpg\" style=\"float:left; max-width: 120px; display: inline\" alt=\"INSA\"/></a> \n",
    "\n",
    "<a href=\"http://wikistat.fr/\" ><img src=\"http://www.math.univ-toulouse.fr/~besse/Wikistat/Images/wikistat.jpg\" style=\"max-width: 250px; display: inline\"  alt=\"Wikistat\"/></a>\n",
    "\n",
    "<a href=\"http://www.math.univ-toulouse.fr/\" ><img src=\"http://www.math.univ-toulouse.fr/~besse/Wikistat/Images/logo_imt.jpg\" style=\"float:right; max-width: 250px; display: inline\" alt=\"IMT\"/> </a>\n",
    "</center>"
   ]
  },
  {
   "cell_type": "markdown",
   "metadata": {},
   "source": [
    "# [Scénarios d'Initiation à la Statistique](https://github.com/wikistat/InitStat)"
   ]
  },
  {
   "cell_type": "markdown",
   "metadata": {},
   "source": [
    "# Statistiques élémentaires d'une cohorte familiale  avec <a href=\"https://cran.r-project.org/\"><img src=\"https://cran.r-project.org/Rlogo.svg\" style=\"max-width: 40px; display: inline\" alt=\"R\"/></a>"
   ]
  },
  {
   "cell_type": "markdown",
   "metadata": {},
   "source": [
    "**Résumé**: \n",
    "Initiation à la pratique des techniques élémentaires de statistique par l'étude d'un jeu de données à l'aide du logiciel R. L'objectif est de décrire puis tester quelques hypothèses élémentaires  sur un jeu de donées décrivant une cohorte familiale sur 10 ans: [description  élémentaire](http://wikistat.fr/pdf/st-l-descript-estim-intro.pdf), [estimation](http://wikistat.fr/pdf/st-l-inf-estim.pdf), [tests](http://wikistat.fr/pdf/st-l-inf-tests.pdf), [régression linéaire](http://wikistat.fr/pdf/st-l-inf-regsim.pdf), [analyse de variance](http://wikistat.fr/pdf/st-l-inf-tests.pdf) (ANOVA), [analyse en composantes principales](http://wikistat.fr/pdf/st-l-des-multi.pdf), [régression multiple](http://wikistat.fr/pdf/st-l-inf-intRegmult.pdf). Si nécessaire, un [tutoriel](http://wikistat.fr/pdf/st-tutor-start-R-intro.pdf) de démarrage avec R est disponible.\n",
    "\n",
    "## 1 Introduction\n",
    "Une étude (1)  réalisée entre 1961 et 1973 dans la maternité d'un hôpital d'Oakland (Californie) avait pour but de rechercher si certaines caractéristiques des parents avaient une influence sur le développement de l'enfant. Parmi les variables collectées, 19 variables décrites dans le tableau ci-dessous ont été observées sur 115 familles ou unités statistiques. Ces variables décrivent des informations médicales et socio-économiques concernant le bébé et ses parents au moment de la naissance puis dix ans plus tard. Ces données vont servir à illustrer la démarche classique d'une étude statistique.\n",
    "\n",
    "Code | Libellé | Unité ou modalités \n",
    "-----|---------|-----\n",
    "ESx\t| sexe de l'enfant |\tM    ou    F \n",
    "ERh\t| rhésus de l'enfant |\tRh+    ou     RH- \n",
    "ET0\t| taille\tde l'enfant | à la naissance en cm  \n",
    "EP0\t| poids\tde l'enfant|  à la naissance en kg  \n",
    "ET10 |\ttaille\tde l'enfant | à 10 ans en cm\n",
    "EP10 |\tpoids\tde l'enfant | à 10 ans en kg \n",
    "MRh\t| rhésus de la mère \t|\tRh+    ou     RH- \n",
    "MA0\t| âge de la mère | à la naissance\n",
    "MP0\t| poids\tde la mère | à la naissance\n",
    "MCig0\t| consom. de cigarettes |\t0, 1 à 10,  $>10$\n",
    "MT |\ttaille\tde la mère | \n",
    "MP10 |\tpoids\tde la mère | 10 ans après \n",
    "MCig10|\tconsommation de cigarettes | 10 ans après\n",
    "PA0\t| âge\tdu père | à la naissance\n",
    "PCig0 |\tconsommation de cigarettes \t| à la naissance\n",
    "PT |\ttaille\tdu père|\n",
    "PP10 |\tpoids\tdu père | 10 ans après\n",
    "RF0\t| revenus familiaux | à la naissance \n",
    "RF10 | revenus |\t10 ans après\t\n",
    "\n",
    "Ces données permettent de se poser différentes questions  de nature plutôt épidémiologique:\n",
    "  - Influence ou non de la consommation de cigarettes sur le sexe de l'enfant, sur son poids, sur sa taille,\n",
    "  - sur l'évolution du poids de la mère en 10 ans, \n",
    "  - sur les liaisons entre les caractéristiques des parents (poids, taille, rhésus) et celles de leur enfant,\n",
    "  -  ...\n",
    "\n",
    "(1) J.L. Hodges, D. Krech et R. Crutchfield (1975). *Statlab : an Empirical Introduction to Statistics*."
   ]
  },
  {
   "cell_type": "markdown",
   "metadata": {},
   "source": [
    "## 2 Exploration statistique élémentaire\n",
    "### 2.1 Lire les données\n",
    "Les données sont disponibles dans un [répertoire](http://wikistat.fr/data) sous la forme d'un fichier [`ozone.csv`](http://wikistat.fr/data/statlab.csv) construit à partir  de Excel  en choisissant \";\" comme séparateur et \",\" comme marque décimale. Télécharger ce fichier (ou le lire directement) dans le répertoire courant de R avant d'exécuter les commandes :"
   ]
  },
  {
   "cell_type": "code",
   "execution_count": null,
   "metadata": {},
   "outputs": [],
   "source": [
    "# Data frame à partir d'un fichier csv\n",
    "path=\"http://www.math.univ-toulouse.fr/~besse/Wikistat/data/\"\n",
    "#path=\"\"\n",
    "famil=read.csv2(paste(path,\"statlab.csv\",sep=\"\"))\n",
    "# vérification\n",
    "summary(famil)"
   ]
  },
  {
   "cell_type": "markdown",
   "metadata": {},
   "source": [
    "### 2.2 [Description unidimensionnelle](http://wikistat.fr/pdf/st-l-des-uni.pdf)\n",
    "Décrire chacune des variables en précisant ses caractéristiques.\n",
    "#### Variable quantitatives\n",
    "Décrire chaque variable (moyenne, écart-type, quantiles, diagramme boîte, histogramme) afin d'identifier les problèmes potentiels: valeurs atypiques, hétérogénéité des variances, distributions dissymétriques..."
   ]
  },
  {
   "cell_type": "code",
   "execution_count": null,
   "metadata": {},
   "outputs": [],
   "source": [
    "summary(famil)"
   ]
  },
  {
   "cell_type": "code",
   "execution_count": null,
   "metadata": {},
   "outputs": [],
   "source": [
    "sapply(famil, mean)  # moyennes"
   ]
  },
  {
   "cell_type": "code",
   "execution_count": null,
   "metadata": {},
   "outputs": [],
   "source": [
    "sapply(famil, sd)    # écarts-types"
   ]
  },
  {
   "cell_type": "markdown",
   "metadata": {},
   "source": [
    "Les commandes suivantes s'intéressent à deux  variables quantitatives, elles peuvent être appliquées à chacune d'elles."
   ]
  },
  {
   "cell_type": "code",
   "execution_count": null,
   "metadata": {},
   "outputs": [],
   "source": [
    "# dimensionner les graphiques\n",
    "options(repr.plot.width=4, repr.plot.height=4)\n",
    "boxplot(famil$ET0) "
   ]
  },
  {
   "cell_type": "code",
   "execution_count": null,
   "metadata": {},
   "outputs": [],
   "source": [
    "boxplot(famil$EP0)"
   ]
  },
  {
   "cell_type": "code",
   "execution_count": null,
   "metadata": {},
   "outputs": [],
   "source": [
    "hist(famil$ET0) "
   ]
  },
  {
   "cell_type": "code",
   "execution_count": null,
   "metadata": {},
   "outputs": [],
   "source": [
    "hist(famil$EP0)"
   ]
  },
  {
   "cell_type": "markdown",
   "metadata": {},
   "source": [
    "Commenter les résultats obtenus en terme de symétrie des distributions, de présence de valeurs atypiques.\n",
    "\n",
    "#### Variables qualitatives\n",
    "Fréquences des *modalités* des variables qualitatives."
   ]
  },
  {
   "cell_type": "code",
   "execution_count": null,
   "metadata": {},
   "outputs": [],
   "source": [
    "barplot(table(famil$ESx))"
   ]
  },
  {
   "cell_type": "code",
   "execution_count": null,
   "metadata": {},
   "outputs": [],
   "source": [
    "barplot(table(famil$MCig0))"
   ]
  },
  {
   "cell_type": "code",
   "execution_count": null,
   "metadata": {},
   "outputs": [],
   "source": [
    "pie(table(famil$MCig10))"
   ]
  },
  {
   "cell_type": "markdown",
   "metadata": {},
   "source": [
    "### 2.3 [Description bidimensionnelle](http://wikistat.fr/pdf/st-l-des-bi.pdf)\n",
    "#### Variables quantitatives\n",
    "Une matrice de *nuages de points* donne un aperçu rapide des structures de corrélation: "
   ]
  },
  {
   "cell_type": "code",
   "execution_count": null,
   "metadata": {},
   "outputs": [],
   "source": [
    "options(repr.plot.width=8, repr.plot.height=8)\n",
    "pairs(famil[,c(3:6,8,9,11,12,14,16:19)])"
   ]
  },
  {
   "cell_type": "code",
   "execution_count": null,
   "metadata": {},
   "outputs": [],
   "source": [
    "options(repr.plot.width=4, repr.plot.height=4)\n",
    "plot(EP10~PP10,data=famil)"
   ]
  },
  {
   "cell_type": "code",
   "execution_count": null,
   "metadata": {},
   "outputs": [],
   "source": [
    "plot(EP10~ET10,data=famil)"
   ]
  },
  {
   "cell_type": "markdown",
   "metadata": {},
   "source": [
    "#### Variables qualitatives\n",
    "Calcul de la *table de contingence* et graphe des profils colonnes dans un *mosaic plot*."
   ]
  },
  {
   "cell_type": "code",
   "execution_count": null,
   "metadata": {},
   "outputs": [],
   "source": [
    "table(famil$ESx,famil$ERh)"
   ]
  },
  {
   "cell_type": "code",
   "execution_count": null,
   "metadata": {},
   "outputs": [],
   "source": [
    "# avec les marges\n",
    "addmargins(table(famil$ESx,famil$ERh))"
   ]
  },
  {
   "cell_type": "code",
   "execution_count": null,
   "metadata": {},
   "outputs": [],
   "source": [
    "# fréquences relatives \n",
    "prop.table(table(famil$ESx,famil$ERh)) "
   ]
  },
  {
   "cell_type": "code",
   "execution_count": null,
   "metadata": {},
   "outputs": [],
   "source": [
    "mosaicplot(table(famil$ESx,famil$ERh))"
   ]
  },
  {
   "cell_type": "code",
   "execution_count": null,
   "metadata": {},
   "outputs": [],
   "source": [
    "addmargins(table(famil$MCig0,famil$ESx))"
   ]
  },
  {
   "cell_type": "code",
   "execution_count": null,
   "metadata": {},
   "outputs": [],
   "source": [
    "mosaicplot(table(famil$MCig0,famil$ESx))"
   ]
  },
  {
   "cell_type": "markdown",
   "metadata": {},
   "source": [
    "Commenter la nature des liaisons entre certaines variables. \n",
    "\n",
    "#### Variables qualitative et quantitative\n",
    "Représenter une possible liaison entre les variables principales et celles qualitatives par des *diagrammes boîtes*."
   ]
  },
  {
   "cell_type": "code",
   "execution_count": null,
   "metadata": {},
   "outputs": [],
   "source": [
    "boxplot(EP0~ESx,data=famil)"
   ]
  },
  {
   "cell_type": "code",
   "execution_count": null,
   "metadata": {},
   "outputs": [],
   "source": [
    "boxplot(EP0~MCig0,data=famil)"
   ]
  },
  {
   "cell_type": "markdown",
   "metadata": {},
   "source": [
    "Commenter.\n",
    "\n",
    "\n",
    "Bien d'autres options permettent de modifier les apparences des graphiques (titres, légendes...). Consulter l'aide en ligne si nécessaire.\n",
    "\n",
    "## 3 [Tests de comparaison](http://wikistat.fr/pdf/st-l-inf-tests.pdf)\n",
    "**Important** Lors de l'exécution de chaque *test*  préciser explicitement :\n",
    "  1. la question posée,\n",
    "  2. l'hypothèse *H_0* en relation avec la question et associée au test, \n",
    "  3. la *p*-valeur calculée et la décision du test, \n",
    "  4. la réponse à la question.\n",
    "\n",
    "\n",
    "### 3.1 Tests paramétriques dans le cas gaussien\n",
    "Beaucoup des outils ci-dessous nécessitent de vérifier le caractère gaussien ou non de la distribution. En fait, le nombre important d'observations dans l'échantillon permet de s'affranchir de cette hypothèse mais il est utile de savoir la vérifier et éventuellement de sélectionner la transformation la plus appropriée des données notamment pour des variables de concentration.\n",
    "\n",
    "#### Normalité d'une distribution : Shapiro-Wilks\n",
    "La *droite de Henri* ou graphe quantile-quantile  donne déjà un aperçu graphique de la normalité de la distribution avant de calculer le test."
   ]
  },
  {
   "cell_type": "code",
   "execution_count": null,
   "metadata": {},
   "outputs": [],
   "source": [
    "# qq-plots\n",
    "qqnorm(famil$EP0)\n",
    "qqline(famil$EP0,col=2)"
   ]
  },
  {
   "cell_type": "code",
   "execution_count": null,
   "metadata": {},
   "outputs": [],
   "source": [
    "qqnorm(famil$ET0)\n",
    "qqline(famil$ET0,col=2)"
   ]
  },
  {
   "cell_type": "code",
   "execution_count": null,
   "metadata": {},
   "outputs": [],
   "source": [
    "qqnorm(famil$ET10)\n",
    "qqline(famil$ET10,col=2)"
   ]
  },
  {
   "cell_type": "code",
   "execution_count": null,
   "metadata": {},
   "outputs": [],
   "source": [
    "# Test de shapiro-Wilks\n",
    "shapiro.test(famil$EP0)"
   ]
  },
  {
   "cell_type": "code",
   "execution_count": null,
   "metadata": {},
   "outputs": [],
   "source": [
    "shapiro.test(famil$ET0)"
   ]
  },
  {
   "cell_type": "code",
   "execution_count": null,
   "metadata": {},
   "outputs": [],
   "source": [
    "shapiro.test(famil$ET10)"
   ]
  },
  {
   "cell_type": "markdown",
   "metadata": {},
   "source": [
    "Le test de *Kolmogorov-Smirnov* de comparaison à une distribution théorique pourrait également être utilisé (`ks.test`).\n",
    "\n",
    "#### Intervalle de confiance d'une moyenne : Student\n",
    "Il est important de savoir estimer l'[intervalle de confiance](http://wikistat.fr/pdf/st-l-inf-estim.pdf) d'une moyenne; celui-ci permet de tester l'égalité de cette moyenne à une valeur théorique selon l'appartenance ou non de cette valeur à l'intervalle. L'effectif étant suffisamment grand, il n'est pas nécessaire de supposer la normalité des données. L'intervalle de confiance est calculé par défaut avec un seuil à 95% mais ce paramètre peut être précisé (`conf.level=.95`) de même que la moyenne théorique testée (`mu=0.0`, par défaut à 0)."
   ]
  },
  {
   "cell_type": "markdown",
   "metadata": {},
   "source": [
    "t.test(famil$EP0, conf.level=.95)"
   ]
  },
  {
   "cell_type": "markdown",
   "metadata": {},
   "source": [
    "#### Comparaison de deux variances : Fisher\n",
    "On s'intéresse à l'influence du sexe sur la taille à la naissance. Tester l'égalité des deux moyennes nécessite de vérifier péralablement plusieurs points :\n",
    "  1. la normalité des distributions dans chaque classe à moins que l'échantillon soit considéré de taille suffisamment grande, \n",
    "  2. le caractère indépendant ou appariés des échantillons, \n",
    "  3. l'égalité ou non des variances à l'intérieure de chaque groupe.\n",
    "\n",
    "On dispose de deux échantillons *indépendants*: les garçons et les filles. Testons les autres hypothèses.\n",
    "\n",
    "Normalité des distributions (facultatif car *n* grand)"
   ]
  },
  {
   "cell_type": "code",
   "execution_count": null,
   "metadata": {},
   "outputs": [],
   "source": [
    "shapiro.test(famil[famil$ESx==\"M\",\"ET0\"])\n",
    "shapiro.test(famil[famil$ESx==\"F\",\"ET0\"])"
   ]
  },
  {
   "cell_type": "code",
   "execution_count": null,
   "metadata": {},
   "outputs": [],
   "source": [
    "# égalité des variances (test de Fisher)\n",
    "var.test(ET0~ESx,data=famil)"
   ]
  },
  {
   "cell_type": "markdown",
   "metadata": {},
   "source": [
    "Commenter les résultats.\n",
    "#### Comparaison de deux moyennes \n",
    "Le test de comparaison des moyennes à utiliser (Student *vs.* Welsh) dépend du résultat précédent concernant l'égalité des variances.\n",
    "\n",
    "*Échantillons indépendants*\n",
    "\n",
    "Si les variances sont différentes, il s'agit d'un test de Welch."
   ]
  },
  {
   "cell_type": "code",
   "execution_count": null,
   "metadata": {},
   "outputs": [],
   "source": [
    "t.test(ET0~ESx,var.equal=F, data=famil)"
   ]
  },
  {
   "cell_type": "markdown",
   "metadata": {},
   "source": [
    "Dans le cas où elles sont considérées égales, c'est un test de Student."
   ]
  },
  {
   "cell_type": "code",
   "execution_count": null,
   "metadata": {},
   "outputs": [],
   "source": [
    "t.test(ET0~ESx,var.equal=T, data=famil)"
   ]
  },
  {
   "cell_type": "markdown",
   "metadata": {},
   "source": [
    "Commenter.\n",
    "\n",
    "*Echantillons appariés*\n",
    "\n",
    "On se propose d'étudier l'évolution du poids de la mère au moment de la naissance et dix ans après. La mesure étant observée sur les mêmes personnes à deux instants différents, les échantillons sont cette fois appariés. Quelle \"intuition\" pouvons nous avoir du résultat à partir de graphique ci-dessous :"
   ]
  },
  {
   "cell_type": "code",
   "execution_count": null,
   "metadata": {},
   "outputs": [],
   "source": [
    "# nuage de points et première bissectrice\n",
    "plot(famil$MP10~famil$MP0)\n",
    "abline(a=0,b=1)"
   ]
  },
  {
   "cell_type": "code",
   "execution_count": null,
   "metadata": {},
   "outputs": [],
   "source": [
    "# test\n",
    "t.test(famil$MP0, famil$MP10,paired=TRUE)"
   ]
  },
  {
   "cell_type": "markdown",
   "metadata": {},
   "source": [
    "### 3.2 [Tests non-paramétriques](http://wikistat.fr/pdf/st-l-inf-tests.pdf)\n",
    "Si l'hypothèse de normalité des distributions n'est pas vérifiée et si l'échantillon est trop réduit, c'est un *test non-paramétrique* qu'il faut mettre en oeuvre. Les tests non-paramétriques sont basés sur les rangs des observations et donc sur les comparaisons des médianes des échantillons. Une transformation des variables par une fonction monotone (*e.g.log*) qui ne changent pas leur ordonnancement  n'a donc pas d'effet sur le calcul d'un test non paramétrique.\n",
    "\n",
    "#### Comparaison de deux médianes : Wilcoxon\n",
    "\n",
    "*Echantillons indépendants*\n",
    "\n",
    "La même influence potentièle que le le test paramétrique est testée."
   ]
  },
  {
   "cell_type": "code",
   "execution_count": null,
   "metadata": {},
   "outputs": [],
   "source": [
    "tapply(famil$ET0, famil$ESx, median) "
   ]
  },
  {
   "cell_type": "code",
   "execution_count": null,
   "metadata": {},
   "outputs": [],
   "source": [
    "wilcox.test(famil$ET0 ~ famil$ESx, data=famil)"
   ]
  },
  {
   "cell_type": "markdown",
   "metadata": {},
   "source": [
    "*Echantillons appariés* Idem."
   ]
  },
  {
   "cell_type": "code",
   "execution_count": null,
   "metadata": {},
   "outputs": [],
   "source": [
    "median(famil$MP0-famil$MP10)\n",
    "wilcox.test(famil$MP0, famil$MP10,paired=TRUE)"
   ]
  },
  {
   "cell_type": "markdown",
   "metadata": {},
   "source": [
    "Comparer avec les résultats des tests paramétriques.\n",
    "\n",
    "## 4 [Tests de liaison](http://wikistat.fr/pdf/st-l-inf-tests.pdf)\n",
    "### 4.1 Indépendance de 2 variables qualitatives\n",
    "Le *test* du *chi 2* est adapté à ce problème."
   ]
  },
  {
   "cell_type": "code",
   "execution_count": null,
   "metadata": {},
   "outputs": [],
   "source": [
    "chisq.test(table(famil$ESx,famil$ERh))\n",
    "chisq.test(table(famil$ESx,famil$MCig0))"
   ]
  },
  {
   "cell_type": "markdown",
   "metadata": {},
   "source": [
    "*Remarque*: un avertissement peut signaler que les effectifs théoriques (sous hypothèse d'indépendance) de certaines cellules sont trop faibles pour justifier des propriétés asymptotiques du test du $\\chi 2$. Il est dans ce cas nécessaire de regrouper des modalités.\n",
    "### 4.2 Une quantitative et une qualitative\n",
    "L'[ANOVA](http://wikistat.fr/pdf/st-l-inf-tests.pdf) associée à un test de Fisher adapté à cette situation est sans doute le test le plus utilisé; il revient au test de Student lorsque la variable qualitative n'a que deux modalités.  L'ANOVA nécessite de vérifier:\n",
    "-  le caractère indépendant des échantillons, \n",
    "- la normalité des distributions (ou une taille suffisante d'échantillon) dans chaque classe ou plutôt la normalité des résidus au modèle, \n",
    "- l'égalité des variances internes à chaque groupe.\n",
    "\n",
    "Même si la normalité des résidus est vérifiée *a posteriori*, c'est *a priori* qu'il faut prendre en compte ce résultat pour statuer sur la légitimité du test. \n",
    "\n",
    "Si la normalité n'est pas vérifiée pour un petit échantillon ou si l'égalité des variances n'est pas acceptable, un test non-paramétrique (Kruskal-Wallis) doit être envisagé.\n",
    "\n",
    "**Cas gaussien : ANOVA - Fisher**\n",
    "Deux tests permettent de comparer les variances des groupes. Le test de Bartlett dans le cas gaussien et celui de Levene si l'hypothèse de normalité n'est pas admissible. Le test de Bartlett est le plus utilisé compte tenu du contexte tandis que le test de Levene nécessite le chargement d'une autre librairie de R."
   ]
  },
  {
   "cell_type": "code",
   "execution_count": null,
   "metadata": {},
   "outputs": [],
   "source": [
    "# test de Bartlett\n",
    "bartlett.test(EP0~MCig0, data=famil)"
   ]
  },
  {
   "cell_type": "code",
   "execution_count": null,
   "metadata": {
    "collapsed": true
   },
   "outputs": [],
   "source": [
    "# ANOVA à un facteur\n",
    "res.anova=aov(EP0~MCig0, data=famil)"
   ]
  },
  {
   "cell_type": "code",
   "execution_count": null,
   "metadata": {},
   "outputs": [],
   "source": [
    "# normalité des résidus\n",
    "qqnorm(res.anova$residuals)\n",
    "qqline(res.anova$residuals)\n",
    "shapiro.test(res.anova$residuals)"
   ]
  },
  {
   "cell_type": "code",
   "execution_count": null,
   "metadata": {},
   "outputs": [],
   "source": [
    "# Résulats du test\n",
    "summary(res.anova)"
   ]
  },
  {
   "cell_type": "markdown",
   "metadata": {},
   "source": [
    "Commenter.\n",
    "\n",
    "#### Cas non-paramétrique : Kruskal-Wallis"
   ]
  },
  {
   "cell_type": "code",
   "execution_count": null,
   "metadata": {},
   "outputs": [],
   "source": [
    "kruskal.test(EP0~MCig0, data=famil)"
   ]
  },
  {
   "cell_type": "markdown",
   "metadata": {},
   "source": [
    "Comparer les résultats et discuter de la validité de la décision à prendre.\n",
    "\n",
    "Suivre la même démarche pour le taille de l'enfant à la naissance.\n",
    "\n",
    "### 4.3 Deux variables quantitatives et [régression](http://wikistat.fr/pdf/st-l-inf-regsim.pdf)\n",
    "La [régression simple](http://wikistat.fr/pdf/st-l-inf-regsim.pdf) permet de tester l'influence éventuelle d'une variable sur une autre et plus précisément, dans le cas de cet exemple, d'expliquer et même de chercher à prévoir par exemple la taille de l'enfant à 10 ans. La commande `lm` produit un ensemble de résultats sous la forme d'une liste de matrices et vecteurs.\n",
    "#### Estimation du modèle"
   ]
  },
  {
   "cell_type": "code",
   "execution_count": null,
   "metadata": {},
   "outputs": [],
   "source": [
    "res1.reg=lm(ET10 ~ PT, data = famil)\n",
    "# liste des résultats\n",
    "names(res1.reg)"
   ]
  },
  {
   "cell_type": "markdown",
   "metadata": {},
   "source": [
    "#### Diagnostic des résidus\n",
    "Des graphiques précédents permettent de s'assurer de la *validité* du modèle; statuer sur l'homoscédasticité des résidus, leur normalité, la bonne linéarité du modèle. "
   ]
  },
  {
   "cell_type": "code",
   "execution_count": null,
   "metadata": {},
   "outputs": [],
   "source": [
    "# nuage de point\n",
    "# normalité des résidus\n",
    "qqnorm(res1.reg$residuals)\n",
    "qqline(res1.reg$residuals)\n",
    "shapiro.test(res1.reg$residuals)"
   ]
  },
  {
   "cell_type": "code",
   "execution_count": null,
   "metadata": {},
   "outputs": [],
   "source": [
    "# Repérage d'une structure particulière du nuage\n",
    "# ou de la présence de \"grands\" résidus\n",
    "res.student=rstudent(res1.reg)\n",
    "ychap=res1.reg$fitted.values\n",
    "plot(res.student~ychap,ylab=\"Résidus\")\n",
    "# ajouter des lignes\n",
    "abline(h=c(-2,0,2),lty=c(2,1,2))"
   ]
  },
  {
   "cell_type": "code",
   "execution_count": null,
   "metadata": {},
   "outputs": [],
   "source": [
    "# repérage des points influents\n",
    "cook=cooks.distance(res1.reg)\n",
    "plot(cook~ychap,ylab=\"Distance de Cook\")\n",
    "abline(h=c(0,1),lty=c(1,2))"
   ]
  },
  {
   "cell_type": "markdown",
   "metadata": {},
   "source": [
    "Les résidus sont \"grands\" si, une fois normalisés ou plutôt \"studentisés\", ils sont de valeur absolue plus grande que 2. Une observation est influente si elle a un grand résidu est est associée à une grande valeur sur la diagonale de la*hat matrix}*. Cela correspond à une valeur élevée (plus grande que 1) de la distance de Cook.\n",
    "\n",
    "#### Significativité du modèle"
   ]
  },
  {
   "cell_type": "code",
   "execution_count": null,
   "metadata": {},
   "outputs": [],
   "source": [
    "summary(res1.reg)"
   ]
  },
  {
   "cell_type": "markdown",
   "metadata": {},
   "source": [
    "Que dire de l'influence de la taille du père ?  Que dire également de la présence d'observations à effet levier potentiel ? Que dire de la qualité d'ajustement de ce modèle et donc de la qualité attendue de la prévision ?\n",
    "\n",
    "Interpréter les [tests](http://wikistat.fr/pdf/st-l-inf-regsim.pdf).\n",
    "\n",
    "Refaire ces calculs pour étudier le poids de l'enfant à la naissance en fonction de sa taille à la naissance et sa taille à 10 ans en fonction de celle à sa naissance.\n",
    "\n",
    "## 5 ACP et régression multiple\n",
    "### 5.1 [Analyse en composantes principales](http://wikistat.fr/pdf/st-l-des-multi.pdf)\n",
    "Cette description élémentaire permet de se familiariser avec la structure de corrélation particulière des variables. Il faut sélectionner les seules variables quantitatives et l'*ACP* est réduite."
   ]
  },
  {
   "cell_type": "code",
   "execution_count": null,
   "metadata": {},
   "outputs": [],
   "source": [
    "# extraction des variables quantitatives\n",
    "data=famil[,c(3:6,8,9,11,12,14,16:19)]\n",
    "# liste des varaibles quantitatives\n",
    "noms=dimnames(data)[[2]];noms\n",
    "res.pca=prcomp(data,scale=T)\n",
    "# décroissance des valeurs propres\n",
    "plot(res.pca)"
   ]
  },
  {
   "cell_type": "code",
   "execution_count": null,
   "metadata": {},
   "outputs": [],
   "source": [
    "# Combien de dimension seraient à retenir ?\n",
    "# parts de variance expliquée\n",
    "summary(res.pca)"
   ]
  },
  {
   "cell_type": "code",
   "execution_count": null,
   "metadata": {},
   "outputs": [],
   "source": [
    "# biplot du premier plan principal\n",
    "biplot(res.pca)"
   ]
  },
  {
   "cell_type": "markdown",
   "metadata": {},
   "source": [
    "Comment s'interprètent les axes 1 et 2 ?\n",
    "D'autres commandes sont utilisées pour \"colorier\" les étiquettes selon la consommation de cigarettes."
   ]
  },
  {
   "cell_type": "code",
   "execution_count": null,
   "metadata": {},
   "outputs": [],
   "source": [
    "plot(res.pca$x,col=as.integer(famil$MCig0))\n",
    "text(10*res.pca$rotation,noms,col=\"blue\")\n",
    "abline(h=0,v=0,lty=2)"
   ]
  },
  {
   "cell_type": "markdown",
   "metadata": {},
   "source": [
    "### 5.2 [Régression multiple](http://wikistat.fr/pdf/st-l-inf-intRegmult.pdf)\n",
    "#### Modèle linéaire complet\n",
    "La régression linéaire simple conduit à un modèle très mal ajusté. Le *modèle linéaire multiple* ci-dessous, plus complexe, recherche un meilleur ajustement des données."
   ]
  },
  {
   "cell_type": "code",
   "execution_count": null,
   "metadata": {},
   "outputs": [],
   "source": [
    "# estimation\n",
    "res2.reg=lm(ET10~ET0+EP0+MA0+MP0+MT+MP10+PA0+PT+\n",
    "   PP10+RF0+RF10, data = famil)\n",
    "# diagnostics\n",
    "plot(res2.reg)"
   ]
  },
  {
   "cell_type": "code",
   "execution_count": null,
   "metadata": {},
   "outputs": [],
   "source": [
    "# résultats\n",
    "summary(res2.reg)"
   ]
  },
  {
   "cell_type": "markdown",
   "metadata": {},
   "source": [
    "Commenter les résultats obtenus sur la validité du modèle et la qualité de l'ajustement par rapport au modèle précédent. Que dire à propos de la significativité des tests de Student sur la nullité des paramètres ? Que penser alors de la présence de variables présentant de fortes colinéarités ?\n",
    "#### Sous-modèle\n",
    "Une procédure de sélection de modèle non détaillée (*stepwise*) conduit à considérer le modèle ci-dessous: "
   ]
  },
  {
   "cell_type": "code",
   "execution_count": null,
   "metadata": {},
   "outputs": [],
   "source": [
    "res3.reg=lm(ET10 ~ ET0+MT+PT, data = famil)\n",
    "# diagnostics\n",
    "plot(res3.reg)"
   ]
  },
  {
   "cell_type": "code",
   "execution_count": null,
   "metadata": {},
   "outputs": [],
   "source": [
    "# résultats\n",
    "summary(res3.reg)"
   ]
  },
  {
   "cell_type": "markdown",
   "metadata": {},
   "source": [
    "Commenter à nouveau les résultats.\n",
    "#### Meilleure prévision\n",
    "L'objectif est de rechercher le meilleur modèle de prévision de la taille de l'enfant à 10 ans. Ceux-ci sont comparés en considérant le [PRESS](http://wikistat.fr/pdf/st-l-inf-intRegmult.pdf) (*predicted residual sums of squares*) ou *eave one out cross validation*. Une fonction élémentaire est définie pour calculer le PRESS dans le cas élémentaire de la régression linéaire."
   ]
  },
  {
   "cell_type": "code",
   "execution_count": null,
   "metadata": {
    "collapsed": true
   },
   "outputs": [],
   "source": [
    "# définition de la fonction PRESS\n",
    "press=function(model) {\n",
    "h=influence(model)$hat\n",
    "e=influence(model)$wt.res\n",
    "n=length(e)\n",
    "sum((e/(1-h))^2)/n}"
   ]
  },
  {
   "cell_type": "code",
   "execution_count": null,
   "metadata": {},
   "outputs": [],
   "source": [
    "# application aux différents modèles\n",
    "press(res1.reg)\n",
    "press(res2.reg)\n",
    "press(res3.reg)"
   ]
  },
  {
   "cell_type": "markdown",
   "metadata": {},
   "source": [
    "Le meilleur modèle de prévision est-il celui qui ajuste le mieux les données ?\n",
    "\n",
    "Attention, cete analyse se limite volontairement aux outils les plus élémentaires. D'autres modèles seraient à tester, notamment une [analyse de covariance](http://wikistat.fr/pdf/st-m-modlin-anacova.pdf) associant les variables qualitatives au modèle, la présence ou non d'interaction... pour tenter d'améliorer la qualité de prévision. C'est l'objet d'autres scénarios."
   ]
  }
 ],
 "metadata": {
  "kernelspec": {
   "display_name": "R",
   "language": "R",
   "name": "ir"
  },
  "language_info": {
   "codemirror_mode": "r",
   "file_extension": ".r",
   "mimetype": "text/x-r-source",
   "name": "R",
   "pygments_lexer": "r",
   "version": "3.4.3"
  }
 },
 "nbformat": 4,
 "nbformat_minor": 1
}
