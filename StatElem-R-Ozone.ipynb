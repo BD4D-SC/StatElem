{
 "cells": [
  {
   "cell_type": "markdown",
   "metadata": {},
   "source": [
    "<center>\n",
    "<a href=\"http://www.insa-toulouse.fr/\" ><img src=\"http://www.math.univ-toulouse.fr/~besse/Wikistat/Images/logo-insa.jpg\" style=\"float:left; max-width: 120px; display: inline\" alt=\"INSA\"/></a> \n",
    "\n",
    "<a href=\"http://wikistat.fr/\" ><img src=\"http://www.math.univ-toulouse.fr/~besse/Wikistat/Images/wikistat.jpg\" style=\"max-width: 250px; display: inline\"  alt=\"Wikistat\"/></a>\n",
    "\n",
    "<a href=\"http://www.math.univ-toulouse.fr/\" ><img src=\"http://www.math.univ-toulouse.fr/~besse/Wikistat/Images/logo_imt.jpg\" style=\"float:right; max-width: 250px; display: inline\" alt=\"IMT\"/> </a>\n",
    "</center>"
   ]
  },
  {
   "cell_type": "markdown",
   "metadata": {},
   "source": [
    "# [Scénarios d'Initiation à la Statistique](https://github.com/wikistat/InitStat)"
   ]
  },
  {
   "cell_type": "markdown",
   "metadata": {},
   "source": [
    "# Statistiques élémentaires et concentration d'ozone  avec <a href=\"https://cran.r-project.org/\"><img src=\"https://cran.r-project.org/Rlogo.svg\" style=\"max-width: 40px; display: inline\" alt=\"R\"/></a>"
   ]
  },
  {
   "cell_type": "markdown",
   "metadata": {},
   "source": [
    "**Résumé**: \n",
    "Initiation à la pratique des techniques élémentaires de statistique par l'étude d'un jeu de données à l'aide du logiciel R. L'objectif est de prévoir la concentration en ozone le lendemain à partir de celle du jour et de mesures météorologiques : [description  élémentaire](http://wikistat.fr/pdf/st-l-descript-estim-intro.pdf), [estimation](http://wikistat.fr/pdf/st-l-inf-estim.pdf), [tests](http://wikistat.fr/pdf/st-l-inf-tests.pdf), [régression linéaire](http://wikistat.fr/pdf/st-l-inf-regsim.pdf), [analyse de variance](http://wikistat.fr/pdf/st-l-inf-tests.pdf) (ANOVA), [analyse en composantes principales](http://wikistat.fr/pdf/st-l-des-multi.pdf), [régression multiple](http://wikistat.fr/pdf/st-l-inf-intRegmult.pdf). Si nécessaire, un [tutoriel](http://wikistat.fr/pdf/st-tutor-start-R-intro.pdf) de démarrage avec R est disponible.\n",
    "\n",
    "## 1 Introduction\n",
    "La pollution de l'air constitue actuellement une des préoccupations majeures de santé publique. De nombreuses études épidémiologiques ont permis de mettre en évidence l'influence sur la santé de certains composés chimiques comme le dioxyde souffre (SO2), le dioxyde d'azote (NO2), l'ozone (O3) ou des particules en suspension. Des associations de surveillance de la qualité de l'air (Air Breizh en Bretagne depuis 1994) existent sur tout le territoire métropolitain et mesurent la concentration des polluants. Elles enregistrent également les conditions météorologiques comme la température, la nébulosité, le vent, les chutes de pluie en relation avec les services de Météo France... L'une des missions de ces associations est de construire des modèles de prévision de la concentration en ozone du lendemain à partir des données disponibles du jour : observations et prévisions de Météo France. Plus précisément, il s'agit d'anticiper l'occurrence ou non d'un dépassement légal du pic d'ozone (180 $\\mu$gr/m3)  le lendemain afin d'aider les services préfectoraux à prendre les décisions nécessaires de prévention : confinement des personnes à risque, limitation du trafic routier.\n",
    "Plus modestement, l'objectif de cette étude est de mettre en évidence l'influence de certains paramètres sur la concentration d'ozone (en  $\\mu$gr/m3) et différentes variables observées ou leur prévision. \n",
    "Les 112 données étudiées ont été recueillies à Rennes durant l'été 2001. Elles sont disponibles sur le site du laboratoire de mathématiques appliquées de l'Agrocampus Ouest. \n",
    "\n",
    "Les 13 variables observées sont : \n",
    "\n",
    "- \tMaxO3\t:\t\tMaximum de concentration d'ozone observé sur la journée en  $\\mu$gr/m3\n",
    "-\tT9, T12, T15 :\tTempérature observée à 9, 12 et 15h \n",
    "-  \tNe9, Ne12, Ne15\t: Nébulosité observée à 9, 12 et 15h\n",
    "-  \tVx9, Vx12, Vx15\t: Composante E-O du vent  à 9, 12 et 15h\n",
    "-  \tMaxO3v\t:\tTeneur maximum en ozone observée la veille\n",
    "-  \tvent\t:\t\torientation du vent à 12h \n",
    "-  \tpluie\t\t:\toccurrence ou non de précipitations"
   ]
  },
  {
   "cell_type": "markdown",
   "metadata": {},
   "source": [
    "## 2 Exploration statistique élémentaire\n",
    "### 2.1 Lire les données\n",
    "Les données sont disponibles dans un [répertoire](http://wikistat.fr/data) sous la forme d'un fichier [`ozone.csv`](http://wikistat.fr/data/ozone.csv) construit à partir  de Excel  en choisissant \";\" comme séparateur et \",\" comme marque décimale. Télécharger ce fichier (ou le lire directement) dans le répertoire courant de R avant d'exécuter les commandes :"
   ]
  },
  {
   "cell_type": "code",
   "execution_count": 1,
   "metadata": {
    "collapsed": false
   },
   "outputs": [
    {
     "data": {
      "text/plain": [
       "      obs            maxO3              T9             T12       \n",
       " Min.   :601.0   Min.   : 42.00   Min.   :11.30   Min.   :14.00  \n",
       " 1st Qu.:701.8   1st Qu.: 70.75   1st Qu.:16.20   1st Qu.:18.60  \n",
       " Median :729.5   Median : 81.50   Median :17.80   Median :20.55  \n",
       " Mean   :763.2   Mean   : 90.30   Mean   :18.36   Mean   :21.53  \n",
       " 3rd Qu.:829.2   3rd Qu.:106.00   3rd Qu.:19.93   3rd Qu.:23.55  \n",
       " Max.   :930.0   Max.   :166.00   Max.   :27.00   Max.   :33.50  \n",
       "      T15             Ne9             Ne12            Ne15     \n",
       " Min.   :14.90   Min.   :0.000   Min.   :0.000   Min.   :0.00  \n",
       " 1st Qu.:19.27   1st Qu.:3.000   1st Qu.:4.000   1st Qu.:3.00  \n",
       " Median :22.05   Median :6.000   Median :5.000   Median :5.00  \n",
       " Mean   :22.63   Mean   :4.929   Mean   :5.018   Mean   :4.83  \n",
       " 3rd Qu.:25.40   3rd Qu.:7.000   3rd Qu.:7.000   3rd Qu.:7.00  \n",
       " Max.   :35.50   Max.   :8.000   Max.   :8.000   Max.   :8.00  \n",
       "      Vx9               Vx12             Vx15            maxO3v      \n",
       " Min.   :-7.8785   Min.   :-7.878   Min.   :-9.000   Min.   : 42.00  \n",
       " 1st Qu.:-3.2765   1st Qu.:-3.565   1st Qu.:-3.939   1st Qu.: 71.00  \n",
       " Median :-0.8660   Median :-1.879   Median :-1.550   Median : 82.50  \n",
       " Mean   :-1.2143   Mean   :-1.611   Mean   :-1.691   Mean   : 90.57  \n",
       " 3rd Qu.: 0.6946   3rd Qu.: 0.000   3rd Qu.: 0.000   3rd Qu.:106.00  \n",
       " Max.   : 5.1962   Max.   : 6.578   Max.   : 5.000   Max.   :166.00  \n",
       "    vent      pluie   \n",
       " Est  :10   Pluie:43  \n",
       " Nord :31   Sec  :69  \n",
       " Ouest:50             \n",
       " Sud  :21             \n",
       "                      \n",
       "                      "
      ]
     },
     "metadata": {},
     "output_type": "display_data"
    }
   ],
   "source": [
    "# Data frame à partir d'un fichier csv\n",
    "path=\"http://www.math.univ-toulouse.fr/~besse/Wikistat/data/\"\n",
    "#path=\"\"\n",
    "ozone=read.table(paste(path,\"ozone.csv\",sep=\"\"),sep=\";\",dec=\",\",header=T)\n",
    "# vérification\n",
    "summary(ozone)\n",
    "# Supprimer la variable inutile \"obs\" \n",
    "ozone=ozone[,-1]"
   ]
  },
  {
   "cell_type": "markdown",
   "metadata": {},
   "source": [
    "### 2.2 [Description unidimensionnelle](http://wikistat.fr/pdf/st-l-des-uni.pdf)\n",
    "Décrire chacune des variables en précisant ses caractéristiques :\n",
    "#### 2.2.1 Variables quantitatives\n",
    "Décrire chaque variable [(moyenne, écart-type, quantiles, diagramme boîte, histogramme)](http://wikistat.fr/pdf/st-l-des-uni.pdf) afin d'identifier les problèmes potentiels : valeurs atypiques, hétérogénéité des variances, distributions dissymétriques..."
   ]
  },
  {
   "cell_type": "code",
   "execution_count": null,
   "metadata": {
    "collapsed": false
   },
   "outputs": [],
   "source": [
    "summary(ozone)"
   ]
  },
  {
   "cell_type": "code",
   "execution_count": null,
   "metadata": {
    "collapsed": false
   },
   "outputs": [],
   "source": [
    "sapply(ozone[,-c(12,13)], mean)  # moyennes"
   ]
  },
  {
   "cell_type": "code",
   "execution_count": null,
   "metadata": {
    "collapsed": false
   },
   "outputs": [],
   "source": [
    "sapply(ozone[,-c(12,13)], sd)    # écarts-types"
   ]
  },
  {
   "cell_type": "code",
   "execution_count": null,
   "metadata": {
    "collapsed": false
   },
   "outputs": [],
   "source": [
    "# dimensions des graphiques\n",
    "options(repr.plot.width=4, repr.plot.height=4)\n",
    "boxplot(ozone[,2:4]) # boîtes par groupe"
   ]
  },
  {
   "cell_type": "code",
   "execution_count": null,
   "metadata": {
    "collapsed": false
   },
   "outputs": [],
   "source": [
    "boxplot(ozone[,5:7])"
   ]
  },
  {
   "cell_type": "code",
   "execution_count": null,
   "metadata": {
    "collapsed": false
   },
   "outputs": [],
   "source": [
    "boxplot(ozone[,8:10])"
   ]
  },
  {
   "cell_type": "code",
   "execution_count": null,
   "metadata": {
    "collapsed": false
   },
   "outputs": [],
   "source": [
    "boxplot(ozone[,c(1,11)])"
   ]
  },
  {
   "cell_type": "markdown",
   "metadata": {},
   "source": [
    "Commenter les résultats obtenus.\n",
    "\n",
    "Les deux variables de concentration d'ozone demandent plus d'attention. Il est utile de tester une transformation, souvent le logarithme, pour une variable de concentration."
   ]
  },
  {
   "cell_type": "code",
   "execution_count": null,
   "metadata": {
    "collapsed": false
   },
   "outputs": [],
   "source": [
    "hist(ozone$maxO3)\n",
    "hist(ozone$maxO3v)\n",
    "hist(log(ozone$maxO3))\n",
    "hist(log(ozone$maxO3v))\n",
    "boxplot(log(ozone[,c(1,11)]))"
   ]
  },
  {
   "cell_type": "markdown",
   "metadata": {},
   "source": [
    "Les distributions semblent alors plus symétriques et ne présentent plus de valeurs atypiques.\n",
    "\n",
    "#### 2.2.2 Variables qualitatives\n",
    "Fréquences des modalités des variables qualitatives."
   ]
  },
  {
   "cell_type": "code",
   "execution_count": null,
   "metadata": {
    "collapsed": false
   },
   "outputs": [],
   "source": [
    "barplot(table(ozone$pluie))\n",
    "barplot(table(ozone$vent))\n",
    "pie(table(ozone$vent))"
   ]
  },
  {
   "cell_type": "markdown",
   "metadata": {},
   "source": [
    "### 2.3 [Description bidimensionnelle](http://wikistat.fr/pdf/st-l-des-bi.pdf)\n",
    "#### 2.3.1 Variables quantitatives\n",
    "Une matrice de [nuages de points](http://wikistat.fr/pdf/st-l-des-bi.pdf) donne un aperçu rapide des structures de corrélation : "
   ]
  },
  {
   "cell_type": "code",
   "execution_count": null,
   "metadata": {
    "collapsed": false
   },
   "outputs": [],
   "source": [
    "options(repr.plot.width=8, repr.plot.height=8)\n",
    "pairs(ozone[,1:11])"
   ]
  },
  {
   "cell_type": "code",
   "execution_count": null,
   "metadata": {
    "collapsed": false
   },
   "outputs": [],
   "source": [
    "options(repr.plot.width=4, repr.plot.height=4)\n",
    "plot(maxO3~maxO3v,data=ozone)"
   ]
  },
  {
   "cell_type": "code",
   "execution_count": null,
   "metadata": {
    "collapsed": false
   },
   "outputs": [],
   "source": [
    "plot(log(maxO3)~log(maxO3v),data=ozone)"
   ]
  },
  {
   "cell_type": "markdown",
   "metadata": {},
   "source": [
    "Repérer des groupes de variables très corrélées et la liaison entre les variables  principales d'intérêt.\n",
    "\n",
    "#### 2.3.2 Variables qualitatives\n",
    "calcul de la [table de contingence](http://wikistat.fr/pdf/st-l-des-bi.pdf) et graphe des profils colonnes dans un 'mosaic plot'."
   ]
  },
  {
   "cell_type": "code",
   "execution_count": null,
   "metadata": {
    "collapsed": false
   },
   "outputs": [],
   "source": [
    "table(ozone$vent,ozone$pluie)\n",
    "mosaicplot(table(ozone$vent,ozone$pluie))"
   ]
  },
  {
   "cell_type": "markdown",
   "metadata": {},
   "source": [
    "Commenter la liaison entre ces deux variables.\n",
    "\n",
    "\n",
    "#### 2.3.3 Variables qualitatives et quantitatives\n",
    "Représenter une possible liaison entre les variables principales et celles qualitatives par des [diagrammes boîte](http://wikistat.fr/pdf/st-l-des-bi.pdf)."
   ]
  },
  {
   "cell_type": "code",
   "execution_count": null,
   "metadata": {
    "collapsed": false
   },
   "outputs": [],
   "source": [
    "boxplot(maxO3~pluie,data=ozone)\n",
    "boxplot(maxO3~vent,data=ozone)"
   ]
  },
  {
   "cell_type": "markdown",
   "metadata": {},
   "source": [
    "Commenter.\n",
    "\n",
    "Bien d'autres options permettent de modifier les apparences des graphiques (titres, légendes...). Consulter l'aide en ligne si nécessaire.\n",
    "\n",
    "## 3 [Tests de comparaison](http://wikistat.fr/pdf/st-l-inf-tests.pdf)\n",
    "*Important* : Lors de l'exécution de chaque [test](http://wikistat.fr/pdf/st-l-inf-tests.pdf) préciser explicitement :\n",
    "- la question posée,\n",
    "- l'hypothèse $H_0$ en relation avec la question et associée au test, \n",
    "- la p-valeur calculée et la décision du test, \n",
    "- la réponse à la question.\n",
    "\n",
    "\n",
    "### 3.1 Cas gaussien\n",
    "Beaucoup des outils ci-dessous nécessitent de vérifier le caractère gaussien ou non de la distribution. En fait, le nombre important d'observations dans l'échantillon permet de s'affranchir de cette hypothèse mais il est utile de savoir la vérifier et éventuellement de sélectionner la transformation la plus appropriée des données notamment pour les variables de concentration d'ozone.\n",
    "\n",
    "#### 3.1.1 Normalité d'une distribution : Shapiro-Wilks\n",
    "La [droite de Henri](http://wikistat.fr/pdf/st-l-inf-tests.pdf) ou graphe quantile-quantile  donne déjà un aperçu graphique de la normalité de la distribution avant de calculer le test."
   ]
  },
  {
   "cell_type": "code",
   "execution_count": null,
   "metadata": {
    "collapsed": false
   },
   "outputs": [],
   "source": [
    "# qq-plots\n",
    "qqnorm(ozone$maxO3)\n",
    "qqline(ozone$maxO3,col=2)"
   ]
  },
  {
   "cell_type": "code",
   "execution_count": null,
   "metadata": {
    "collapsed": false
   },
   "outputs": [],
   "source": [
    "qqnorm(log(ozone$maxO3))\n",
    "qqline(log(ozone$maxO3),col=2)"
   ]
  },
  {
   "cell_type": "code",
   "execution_count": null,
   "metadata": {
    "collapsed": false
   },
   "outputs": [],
   "source": [
    "# Test de shapiro-Wilks\n",
    "shapiro.test(ozone$maxO3)\n",
    "shapiro.test(log(ozone$maxO3))"
   ]
  },
  {
   "cell_type": "markdown",
   "metadata": {},
   "source": [
    "Le [test](http://wikistat.fr/pdf/st-l-inf-tests.pdf) de Kolmogorov-Smirnov de comparaison à une distribution théorique pourrait également être utilisé (`ks.test`).\n",
    "\n",
    "Les variables transformées sont ajoutées dans la table."
   ]
  },
  {
   "cell_type": "code",
   "execution_count": null,
   "metadata": {
    "collapsed": false
   },
   "outputs": [],
   "source": [
    "ozone=data.frame(ozone,LmaxO3=log(ozone$maxO3),LmaxO3v=log(ozone$maxO3v))\n",
    "summary(ozone)"
   ]
  },
  {
   "cell_type": "markdown",
   "metadata": {},
   "source": [
    "#### 3.1.2 Intervalle de confiance d'une moyenne : Student\n",
    "Il est important de savoir estimer l'[intervalle de confiance](http://wikistat.fr/pdf/st-l-inf-estim.pdf) d'une moyenne ; celui-ci permet de tester l'égalité de cette moyenne à une valeur théorique selon l'appartenance ou non de cette valeur à l'intervalle. L'effectif étant suffisamment grand, il n'est pas nécessaire de supposer la normalité des données mais la variable transformée la plus \"gaussienne\" est choisie. L'intervalle de confiance est calculé par défaut avec un seuil à 95% mais ce paramètre peut être précisé (`conf.level=.95`) de même que la moyenne théorique testée (`mu=0.0`, par défaut à 0)."
   ]
  },
  {
   "cell_type": "code",
   "execution_count": null,
   "metadata": {
    "collapsed": false
   },
   "outputs": [],
   "source": [
    "t.test(ozone$LmaxO3, conf.level=.95)"
   ]
  },
  {
   "cell_type": "markdown",
   "metadata": {},
   "source": [
    "#### 3.1.3 Comparaison de deux variances : Fisher\n",
    "On s'intéresse à l'influence de la présence de pluie sur la concentration en ozone. [Tester](http://wikistat.fr/pdf/st-l-inf-tests.pdf) l'égalité des deux moyennes nécessite de vérifier péralablement plusieurs points:\n",
    "- la normalité des distributions dans chaque classe à moins que l'échantillon soit considéré de taille suffisamment grande, \n",
    "- le caractère indépendant ou appariés des échantillons, \n",
    "- l'égalité ou non des variances à l'intérieure de chaque groupe.\n",
    "On dispose de deux échantillons *indépendants*: les jours de pluie et les jours de temps sec. Testons les autres hypothèses."
   ]
  },
  {
   "cell_type": "code",
   "execution_count": null,
   "metadata": {
    "collapsed": false
   },
   "outputs": [],
   "source": [
    "# Normalité des distributions (facultatif)\n",
    "shapiro.test(ozone[ozone$pluie==\"Pluie\",\"LmaxO3\"])"
   ]
  },
  {
   "cell_type": "code",
   "execution_count": null,
   "metadata": {
    "collapsed": false
   },
   "outputs": [],
   "source": [
    "shapiro.test(ozone[ozone$pluie==\"Sec\",\"LmaxO3\"])"
   ]
  },
  {
   "cell_type": "code",
   "execution_count": null,
   "metadata": {
    "collapsed": false
   },
   "outputs": [],
   "source": [
    "# égalité des variances (test de Fisher)\n",
    "var.test(LmaxO3~pluie,data=ozone)"
   ]
  },
  {
   "cell_type": "markdown",
   "metadata": {},
   "source": [
    "Commenter les résultats.\n",
    "#### 3.1.4 Comparaison de deux moyennes\n",
    "Le [test](http://wikistat.fr/pdf/st-l-inf-tests.pdf) de comparaison des moyennes à utiliser (Student *vs.* Welsh) dépend du résultat précédent concernant l'égalité des variances.\n",
    "\n",
    "##### Echantillons indépendants\n",
    "\n",
    "Si les variances sont différentes, il s'agit d'un test de Welch."
   ]
  },
  {
   "cell_type": "code",
   "execution_count": null,
   "metadata": {
    "collapsed": false
   },
   "outputs": [],
   "source": [
    "t.test(LmaxO3~pluie,var.equal=F, data=ozone)"
   ]
  },
  {
   "cell_type": "markdown",
   "metadata": {},
   "source": [
    "Dans le cas où elles sont considérées égales, c'est un test de Student."
   ]
  },
  {
   "cell_type": "code",
   "execution_count": null,
   "metadata": {
    "collapsed": false
   },
   "outputs": [],
   "source": [
    "t.test(LmaxO3~pluie,var.equal=T, data=ozone)"
   ]
  },
  {
   "cell_type": "markdown",
   "metadata": {},
   "source": [
    "##### Echantillons appariés\n",
    "\n",
    "On se propose d'étudier la persistance moyenne de la concentration en comparant la moyenne du jour avec celle de la veille. La mesure étant observée au même point à deux instants différents, les échantillons sont cette fois appariés."
   ]
  },
  {
   "cell_type": "code",
   "execution_count": null,
   "metadata": {
    "collapsed": false
   },
   "outputs": [],
   "source": [
    "t.test(ozone$maxO3, ozone$maxO3v,paired=TRUE)"
   ]
  },
  {
   "cell_type": "markdown",
   "metadata": {},
   "source": [
    "### 3.2 Cas non-paramétrique\n",
    "Si l'hypothèse de normalité des distributions n'est pas vérifiée et si l'échantillon est trop réduit, c'est un [test](http://wikistat.fr/pdf/st-l-inf-tests.pdf) non-paramétrique qu'il faut mettre en oeuvre. Les tests non-paramétriques sont basés sur les rangs des observations et donc sur les comparaisons des médianes des échantillons. Une transformation des variables par une fonction monotone (*i.e.* $\\log$) qui ne changent pas leur ordonnancement  n'a donc pas d'effet sur le calcul d'un test non paramétrique.\n",
    "\n",
    "#### 3.2.1 Comparaison de deux médianes : Wilcoxon\n",
    "\n",
    "##### Echantillons indépendants"
   ]
  },
  {
   "cell_type": "code",
   "execution_count": null,
   "metadata": {
    "collapsed": false
   },
   "outputs": [],
   "source": [
    "tapply(ozone$LmaxO3, ozone$pluie, median)\n",
    "wilcox.test(maxO3 ~ pluie, data=ozone)"
   ]
  },
  {
   "cell_type": "markdown",
   "metadata": {},
   "source": [
    "##### Echantillons appariés"
   ]
  },
  {
   "cell_type": "code",
   "execution_count": null,
   "metadata": {
    "collapsed": false
   },
   "outputs": [],
   "source": [
    "median(ozone$LmaxO3 - ozone$LmaxO3v)\n",
    "wilcox.test(ozone$LmaxO3, ozone$LmaxO3v,paired=TRUE)"
   ]
  },
  {
   "cell_type": "markdown",
   "metadata": {},
   "source": [
    "Comparer avec les résultats des tests paramétriques."
   ]
  },
  {
   "cell_type": "markdown",
   "metadata": {},
   "source": [
    "## 4 [Tests de liaison](http://wikistat.fr/pdf/st-l-inf-tests.pdf)\n",
    "### 4.1 Indépendance de 2 variables qualitatives\n",
    "Le [test](http://wikistat.fr/pdf/st-l-inf-tests.pdf) du $\\chi 2$ est adapté à ce problème."
   ]
  },
  {
   "cell_type": "code",
   "execution_count": null,
   "metadata": {
    "collapsed": false
   },
   "outputs": [],
   "source": [
    "chisq.test(table(ozone$pluie,ozone$vent))"
   ]
  },
  {
   "cell_type": "markdown",
   "metadata": {},
   "source": [
    "Remarque : un avertissement peut signaler que les effectifs théoriques (sous hypothèse d'indépendance) de certaines cellules sont trop faibles pour justifier des propriétés asymtotiques du test du $\\chi 2$. Il est dans ce cas nécessaire de regrouper des modalités.\n",
    "### 4.2 Une quantitative et une qualitative\n",
    "L'[ANOVA](http://wikistat.fr/pdf/st-l-inf-tests.pdf) associée à un test de Fisher adapté à cette situation est sans doute le test le plus utilisé ; il revient au test de Student lorsque la variable qualitative n'a que deux modalités.  L'ANOVA nécessite de vérifier:\n",
    "\n",
    "- le caractère indépendant des échantillons, \n",
    "- la normalité des distributions (ou une taille suffisante d'échantillon) dans chaque classe ou plutôt la normalité des résidus au modèle, \n",
    "- l'égalité des variances internes à chaque groupe.\n",
    "\n",
    "Même si la normalité des résidus est vérifiée \\emph{a posteriori}, c'est \\emph{a priori} qu'il faut prendre en compte ce résultat pour statuer sur la légitimité du test. \n",
    "\n",
    "Si la normalité n'est pas vérifiée pour un petit échantillon ou si l'agalité des variances n'est pas acceptable, un test [non-paramétrique](http://wikistat.fr/pdf/st-l-inf-tests.pdf) (Kruskal-Wallis) doit être envisagé.\n",
    "\n",
    "#### 4.2.1 Cas gaussien : ANOVA - Fisher\n",
    "Le test de Bartlett permet de comparer les variances des groupes dans le cas gaussien ou paramétrique."
   ]
  },
  {
   "cell_type": "code",
   "execution_count": null,
   "metadata": {
    "collapsed": false
   },
   "outputs": [],
   "source": [
    "# test de Bartlett\n",
    "bartlett.test(LmaxO3 ~ vent, data=ozone)"
   ]
  },
  {
   "cell_type": "code",
   "execution_count": null,
   "metadata": {
    "collapsed": true
   },
   "outputs": [],
   "source": [
    "# ANOVA à un facteur\n",
    "# estimation des paramètres\n",
    "res.anova=aov(LmaxO3 ~ vent, data=ozone)"
   ]
  },
  {
   "cell_type": "code",
   "execution_count": null,
   "metadata": {
    "collapsed": false
   },
   "outputs": [],
   "source": [
    "# normalité des résidus au modèle d'ANOVA\n",
    "qqnorm(res.anova$residuals)\n",
    "qqline(res.anova$residuals)\n",
    "shapiro.test(res.anova$residuals)"
   ]
  },
  {
   "cell_type": "code",
   "execution_count": null,
   "metadata": {
    "collapsed": false
   },
   "outputs": [],
   "source": [
    "# Interprétation du test\n",
    "summary(res.anova)"
   ]
  },
  {
   "cell_type": "markdown",
   "metadata": {},
   "source": [
    "Commenter.\n",
    "\n",
    "#### 4.2.2 Cas non-paramétrique : Kruskal-Wallis"
   ]
  },
  {
   "cell_type": "code",
   "execution_count": null,
   "metadata": {
    "collapsed": false
   },
   "outputs": [],
   "source": [
    "kruskal.test(maxO3 ~ vent, data=ozone)"
   ]
  },
  {
   "cell_type": "markdown",
   "metadata": {},
   "source": [
    "Comparer les résultats.\n",
    "\n",
    "### 4.3 [Deux variables quantitatives](http://wikistat.fr/pdf/st-l-inf-regsim.pdf)\n",
    "La [régression simple](http://wikistat.fr/pdf/st-l-inf-regsim.pdf) permet de tester l'influence éventuelle d'une variable sur une autre et plus précisément, dans le cas de cet exemple, d'expliquer et même de prévoir la concentration d'ozone en fonction de celle de la veille.\n",
    "La commande `lm` produit un ensemble de résultats sous la forme d'une liste de matrices et vecteurs.\n",
    "#### 4.3.1 Estimation du modèle"
   ]
  },
  {
   "cell_type": "code",
   "execution_count": null,
   "metadata": {
    "collapsed": false
   },
   "outputs": [],
   "source": [
    "# retracer le nuage de point\n",
    "plot(LmaxO3 ~ LmaxO3v,data=ozone)"
   ]
  },
  {
   "cell_type": "code",
   "execution_count": null,
   "metadata": {
    "collapsed": false
   },
   "outputs": [],
   "source": [
    "# estimation du modèle\n",
    "res1.reg=lm(LmaxO3 ~ LmaxO3v, data = ozone)\n",
    "# liste des résultats\n",
    "names(res1.reg)"
   ]
  },
  {
   "cell_type": "markdown",
   "metadata": {},
   "source": [
    "#### 4.3.2 Diagnostic des résidus\n",
    "Des graphiques précédents permettent de s'assurer de la \\href{http://wikistat.fr/pdf/st-l-inf-regsim.pdf}{validité du modèle} ; statuer sur l'homoscédasticité des résidus, leur normalité, la bonne linéarité du modèle. "
   ]
  },
  {
   "cell_type": "code",
   "execution_count": null,
   "metadata": {
    "collapsed": false
   },
   "outputs": [],
   "source": [
    "# nuage de point\n",
    "# normalité des résidus\n",
    "qqnorm(res1.reg$residuals)\n",
    "qqline(res1.reg$residuals)\n",
    "shapiro.test(res1.reg$residuals)"
   ]
  },
  {
   "cell_type": "code",
   "execution_count": null,
   "metadata": {
    "collapsed": false
   },
   "outputs": [],
   "source": [
    "# Repérage d'une structure particulière du nuage\n",
    "# ou de la présence de \"grands\" résidus\n",
    "res.student=rstudent(res1.reg)\n",
    "ychap=res1.reg$fitted.values\n",
    "plot(res.student~ychap,ylab=\"Résidus\")\n",
    "# ajouter des lignes\n",
    "abline(h=c(-2,0,2),lty=c(2,1,2))"
   ]
  },
  {
   "cell_type": "code",
   "execution_count": null,
   "metadata": {
    "collapsed": false
   },
   "outputs": [],
   "source": [
    "# repérage des points influents\n",
    "cook=cooks.distance(res1.reg)\n",
    "plot(cook~ychap,ylab=\"Distance de Cook\")\n",
    "abline(h=c(0,1),lty=c(1,2))"
   ]
  },
  {
   "cell_type": "markdown",
   "metadata": {},
   "source": [
    "Les résidus sont \"grands\" si, une fois normalisés ou plutôt \"studentisés\", ils sont de valeur absolue plus grande que 2. Une observation est influente si elle a un grand résidu est est associée à une grande valeur sur la diagonale de la *hat matrix*. Cela correspond à une valeur élevée (plus grande que 1) de la distance de Cook.\n",
    "\n",
    "#### 4.3.3 Significativité du modèle"
   ]
  },
  {
   "cell_type": "code",
   "execution_count": null,
   "metadata": {
    "collapsed": false
   },
   "outputs": [],
   "source": [
    "summary(res1.reg)"
   ]
  },
  {
   "cell_type": "markdown",
   "metadata": {},
   "source": [
    "Que dire de l'influence de seuil d'ozone de la veille ?  Que dire également de la présence d'observations à effet levier potentiel ? Que dire de la qualité d'ajustement de ce modèle et donc de la qualité attendue de la prévision ?\n",
    "Interpréter les [tests](http://wikistat.fr/pdf/st-l-inf-regsim.pdf).\n",
    "\n",
    "## 5 ACP et régression multiple\n",
    "### 5.1 [Analyse en composantes principales](http://wikistat.fr/pdf/st-l-des-multi.pdf)\n",
    "Cette description élémentaire permet de se familiariser avec la structure de corrélation particulière des variables. Il faut sélectionner les seules variables quantitatives et l'\\href{http://wikistat.fr/pdf/st-l-des-multi.pdf}{ACP} est réduite."
   ]
  },
  {
   "cell_type": "code",
   "execution_count": null,
   "metadata": {
    "collapsed": false
   },
   "outputs": [],
   "source": [
    "res.pca=prcomp(ozone[,c(2:10,14,15)],scale=T)\n",
    "# décroissance des valeurs propres\n",
    "plot(res.pca)"
   ]
  },
  {
   "cell_type": "code",
   "execution_count": null,
   "metadata": {
    "collapsed": false
   },
   "outputs": [],
   "source": [
    "# parts de variance expliquée\n",
    "summary(res.pca)"
   ]
  },
  {
   "cell_type": "code",
   "execution_count": null,
   "metadata": {
    "collapsed": false
   },
   "outputs": [],
   "source": [
    "# biplot du premier plan principal\n",
    "biplot(res.pca)"
   ]
  },
  {
   "cell_type": "markdown",
   "metadata": {},
   "source": [
    "Comment s'interprètent les axes 1 et 2 ?\n",
    "### 5.2 [Régression multiple](http://wikistat.fr/pdf/st-l-inf-intRegmult.pdf)\n",
    "#### 5.2.1 Modèle linéaire complet\n",
    "La régression linéaire simple ne conduit pas à un modèle bien ajusté. La [régression linéaire multiple](http://wikistat.fr/pdf/st-l-inf-intRegmult.pdf) ci-dessous, plus complexe, recherche un meilleur ajustement des données."
   ]
  },
  {
   "cell_type": "code",
   "execution_count": null,
   "metadata": {
    "collapsed": false
   },
   "outputs": [],
   "source": [
    "# estimation\n",
    "res2.reg=lm(LmaxO3 ~ LmaxO3v+T9+T12+T15+Ne9+Ne12+Ne15+Vx9+Vx12+Vx15, data = ozone)\n",
    "# diagnostics\n",
    "plot(res2.reg)"
   ]
  },
  {
   "cell_type": "code",
   "execution_count": null,
   "metadata": {
    "collapsed": false
   },
   "outputs": [],
   "source": [
    "# résultats\n",
    "summary(res2.reg)"
   ]
  },
  {
   "cell_type": "markdown",
   "metadata": {},
   "source": [
    "Commenter les résultats obtenus sur la validité du modèle et la qualité de l'ajustement par rapport au modèle précédent. Que dire à propos de la significativité des tests de Student sur la nullité des paramètres ? Que penser alors de la présence de variables présentant de fortes colinéarités ?\n",
    "#### 5.2.2 Sous-modèle\n",
    "Une procédure de sélection de modèle non détaillée (*stepwise*) conduit à considérer le modèle ci-dessous : "
   ]
  },
  {
   "cell_type": "code",
   "execution_count": null,
   "metadata": {
    "collapsed": false
   },
   "outputs": [],
   "source": [
    "res3.reg=lm(LmaxO3~LmaxO3v+T12+Ne9+Vx9,data=ozone)\n",
    "# diagnostics\n",
    "plot(res3.reg)"
   ]
  },
  {
   "cell_type": "code",
   "execution_count": null,
   "metadata": {
    "collapsed": false
   },
   "outputs": [],
   "source": [
    "# résultats\n",
    "summary(res3.reg)"
   ]
  },
  {
   "cell_type": "markdown",
   "metadata": {},
   "source": [
    "Commenter à nouveau les résultats.\n",
    "#### 5.2.3 Meilleure prévision\n",
    "L'objectif est de rechercher le meilleur modèle de prévision de la concentration en ozone. Ceux-ci sont comparés en considérant le [PRESS](http://wikistat.fr/pdf/st-l-inf-intRegmult.pdf) (predicted residual sums of squares) ou *leave one out cross validation*. Une fonction élémentaire est définie pour calculer le PRESS dans le cas élémentaire de la régression linéaire."
   ]
  },
  {
   "cell_type": "code",
   "execution_count": null,
   "metadata": {
    "collapsed": false
   },
   "outputs": [],
   "source": [
    "# définition de la fonction PRESS\n",
    "press=function(model) {\n",
    "h=influence(model)$hat\n",
    "e=influence(model)$wt.res\n",
    "n=length(e)\n",
    "sum((e/(1-h))^2)/n\n",
    "}\n",
    "# application aux différents modèles\n",
    "press(res1.reg)\n",
    "press(res2.reg)\n",
    "press(res3.reg)"
   ]
  },
  {
   "cell_type": "markdown",
   "metadata": {},
   "source": [
    "Le meilleur modèle de prévision est-il celui qui ajuste le mieux les données ?\n",
    "\n",
    "## Annexe : analyse de covariance et sélection de variables\n",
    "Ce scénario se limite volontairement aux outils les plus élémentaires. D'autres modèles seraient à tester, notamment une [analyse de covariance](http://wikistat.fr/pdf/st-m-modlin-anacova.pdf) associant les variables qualitatives au modèle, la présence ou non d'interactions... pour tenter d'améliorer la qualité de prévision. C'est l'objet d'autres scénarios. Pour achever celui-ci dans la logique des outils linéaires mis en \\oe uvre, voici la construction du modèle d'[analyse de covariance](http://wikistat.fr/pdf/st-m-modlin-anacova.pdf) avec sélection de variables au sens du critère AIC pour optimiser les qualités de prévision. C'est le même type d'algorithme qui a été exécuté pour recherche le sous-modèle \"optimal\".\n",
    "\n",
    "L'algorithme de sélection descendante débute par l'estimation du modèle complet. Les interactions ne sont pas prises en compte; celles avec la pluie ne change rien, elles sont éliminées systématiquement par l'algorithme."
   ]
  },
  {
   "cell_type": "code",
   "execution_count": null,
   "metadata": {
    "collapsed": false
   },
   "outputs": [],
   "source": [
    "res.acova=glm(LmaxO3 ~ T9+T12+T15+Ne9+Ne12+Ne15+Vx9+Vx12+Vx15+vent+pluie+LmaxO3v,data=ozone)\n",
    "# Recherche du meilleur modèle au sens \n",
    "# du critère d'Akaïke par méthode descendante\n",
    "res.acova.step=step(res.acova,direction=\"backward\")\n",
    "# paramètres retenus\n",
    "anova(res.acova.step,test=\"F\")\n",
    "# Extraction des valeurs ajustées et des résidus\n",
    "fit.acova=res.acova.step$fitted.values\n",
    "resid.acova=res.acova.step$residuals\n",
    "# Graphe des résidus\n",
    "plot(fit.acova,resid.acova)"
   ]
  },
  {
   "cell_type": "code",
   "execution_count": null,
   "metadata": {
    "collapsed": false
   },
   "outputs": [],
   "source": [
    "summary(res.acova.step)"
   ]
  },
  {
   "cell_type": "code",
   "execution_count": null,
   "metadata": {
    "collapsed": false
   },
   "outputs": [],
   "source": [
    "plot(fit.acova,ozone$LmaxO3,pch=16,col=\"red\",,xlab=\"log(Concentration prevue)\",ylab=\"log(concentration obervee)\")\n",
    "abline(0,1,col=\"blue\", lwd=2)"
   ]
  },
  {
   "cell_type": "markdown",
   "metadata": {},
   "source": [
    "Ces résultats montrent que l'occurence de pluie est bien à prendre en compte dans le modèle. Ce modèle est comparé avec le précédent en calculant une estimation de l'erreur de prévision par [validation croisée](http://wikistat.fr/pdf/st-m-app-risque-estim.pdf)."
   ]
  },
  {
   "cell_type": "code",
   "execution_count": null,
   "metadata": {
    "collapsed": false
   },
   "outputs": [],
   "source": [
    "library(boot) # chargement de la bibliothèque\n",
    "# validation croisée  10-plis\n",
    "# meilleur modèle linéaire \n",
    "res3.reg=glm(LmaxO3~LmaxO3v+T12+Ne9+Vx9,data=ozone)\n",
    "res4.reg=glm(LmaxO3~LmaxO3v+T12+Ne9+Vx9+pluie,\n",
    "   data=ozone)\n",
    "set.seed(111)\n",
    "cv.glm(ozone, res3.reg, K=10)$delta[1] \n",
    "set.seed(111)\n",
    "# modèle d'analyse de covariance\n",
    "cv.glm(ozone, res.acova.step, K=10)$delta[1] "
   ]
  },
  {
   "cell_type": "markdown",
   "metadata": {},
   "source": [
    "Même si la variable pluie est significative dans le modèle, l\"amélioration\" de la qualité de prévision n'est pas franchement significative."
   ]
  }
 ],
 "metadata": {
  "kernelspec": {
   "display_name": "R",
   "language": "R",
   "name": "ir"
  },
  "language_info": {
   "codemirror_mode": "r",
   "file_extension": ".r",
   "mimetype": "text/x-r-source",
   "name": "R",
   "pygments_lexer": "r",
   "version": "3.3.3"
  }
 },
 "nbformat": 4,
 "nbformat_minor": 0
}
