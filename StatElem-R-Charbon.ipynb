{
 "cells": [
  {
   "cell_type": "markdown",
   "metadata": {},
   "source": [
    "# INSA Toulouse --- 3ICBE --- UF Microbiologie & Statistique \n",
    "## Contrôle de Statistique du 4/11/2016\n",
    "\n",
    "*Aucun document n'est autorisé. 1 point par question.*"
   ]
  },
  {
   "cell_type": "markdown",
   "metadata": {},
   "source": [
    "Le charbon actif est un matériau qui peut servir pour purifier de l’eau. Ses propriétés dépendent de la substance à partir de laquelle il est élaboré et des conditions expérimentales utilisées pour le préparer dont en particulier la température qui conditionne sa porosité.\n",
    "Une équipe de chercheurs a mis au point un procédé nouveau d’obtention de charbon actif à partir d’un substrat fait de pulpe et de noyaux d’olive, résidus de l’extraction de l’huile.\n",
    "Deux des caractéristiques prises en compte, dans l’optimisation du procédé de production de charbon actif, ont été \n",
    "\n",
    "- le rendement *Y1* du procédé, c’est-à-dire le pourcentage de charbon actif issu du substrat,  \n",
    "- la capacité *Y2* d’adsorption du bleu de méthylène (en mg/g de charbon) de la préparation obtenue qui en mesure l’efficacité.\n",
    "Un des paramètres importants du procédé est la température *T* à laquelle est soumis le substrat pour la production de charbon actif.\n"
   ]
  },
  {
   "cell_type": "markdown",
   "metadata": {},
   "source": [
    "## 1 Comparaison des 2 méthodes de calcul\n",
    "La capacité d’adsorption *Y2* peut être calculée de deux façons différentes: la méthode A (`MetA`) et la méthode B (`MetB`). Les résultats des deux calculs pour les mêmes morceaux de charbon actif figurent ci-dessous. On veut savoir si les deux méthodes de calcul donnent des résultats équivalents. \n"
   ]
  },
  {
   "cell_type": "code",
   "execution_count": null,
   "metadata": {
    "collapsed": true
   },
   "outputs": [],
   "source": [
    "MetA=c(135, 380, 246, 350, 461, 538, 699, 402, 456, 533)\n",
    "MetB=c(152, 396, 270, 413, 455, 546, 743, 481, 434, 561)"
   ]
  },
  {
   "cell_type": "markdown",
   "metadata": {},
   "source": [
    "Quatre tests sont considérés ci-dessous. Quelles sont leurs conditions d'utilisation ? Lesquels deux tests sont adaptés?"
   ]
  },
  {
   "cell_type": "code",
   "execution_count": null,
   "metadata": {
    "collapsed": false
   },
   "outputs": [],
   "source": [
    "t.test(MetA, MetB)\n",
    "t.test(MetA, MetB,paired=TRUE)\n",
    "wilcox.test(MetA, MetB)\n",
    "wilcox.test(MetA, MetB,paired=TRUE)"
   ]
  },
  {
   "cell_type": "markdown",
   "metadata": {},
   "source": [
    "Quels sont les tests ci-dessous? Quelle hypothèse H0? Quelles résultat?"
   ]
  },
  {
   "cell_type": "code",
   "execution_count": null,
   "metadata": {
    "collapsed": false
   },
   "outputs": [],
   "source": [
    "shapiro.test(MetA)\n",
    "shapiro.test(MetB)"
   ]
  },
  {
   "cell_type": "markdown",
   "metadata": {},
   "source": [
    "4- Quel test faut-il finalement utilisé à la question x? Quelle est l'hypothèse H0? Quelle est la conclusion?"
   ]
  },
  {
   "cell_type": "markdown",
   "metadata": {},
   "source": [
    "## 2 Effet de la température sur le rendement et l'efficacité\n",
    "Par la suite, une des deux méthodes a été choisie pour des raisons économiques.\n",
    "### 2.1 Description\n",
    "Les observations on été faites dans le cadre d'une expérimentation planifiée conduisant aux mesures ci-dessous. Pour chaque *niveau* de température *T*: 750, 775, 800, 825, 850, les variables *Y1* et *Y2* ont été observées lors de 4 expériences indépendante."
   ]
  },
  {
   "cell_type": "code",
   "execution_count": null,
   "metadata": {
    "collapsed": false
   },
   "outputs": [],
   "source": [
    "T=c(750,750,750,750,775,775,775,775,800,800,800,800,825,825,825,825,850,850,850,850)\n",
    "Y1=c(19.1,20.6,16.9,20.1,16.9,19.5,18.4,15.8,15.7,10.2,13.7,13.4,10.2,9.4,6.8,10.7,8.1,5.3,4.8,3.4)\n",
    "Y2=c(118,101,95,98,244,214,238,258,341,426,435,388,408,578,503,549,572,692,662,803)\n",
    "data=data.frame(T,Y1,Y2)\n",
    "summary(data)"
   ]
  },
  {
   "cell_type": "markdown",
   "metadata": {},
   "source": [
    "Que dire des distributions de *Y1* et *Y2* ?"
   ]
  },
  {
   "cell_type": "code",
   "execution_count": null,
   "metadata": {
    "collapsed": false
   },
   "outputs": [],
   "source": [
    "options(repr.plot.width=8, repr.plot.height=4)\n",
    "opar=par(mfrow=c(1,2))\n",
    "boxplot(Y1);boxplot(Y2)"
   ]
  },
  {
   "cell_type": "code",
   "execution_count": null,
   "metadata": {
    "collapsed": false
   },
   "outputs": [],
   "source": [
    "shapiro.test(Y1); shapiro.test(Y2)"
   ]
  },
  {
   "cell_type": "markdown",
   "metadata": {},
   "source": [
    "5- Que dire des relations entre la température et chacune des variables Y1 et Y2 ?"
   ]
  },
  {
   "cell_type": "code",
   "execution_count": null,
   "metadata": {
    "collapsed": false
   },
   "outputs": [],
   "source": [
    "cor(T,Y1)\n",
    "cor(T,Y2)\n",
    "opar=par(mfrow=c(1,2))\n",
    "plot(T,Y1)\n",
    "plot(T,Y2)"
   ]
  },
  {
   "cell_type": "markdown",
   "metadata": {},
   "source": [
    "### 2.2 Rendement *Y1* fonction de la température *T*"
   ]
  },
  {
   "cell_type": "code",
   "execution_count": null,
   "metadata": {
    "collapsed": false
   },
   "outputs": [],
   "source": [
    "reg1=lm(Y1~T)\n",
    "res.student=rstudent(reg1)\n",
    "ychap=reg1$fitted.values\n",
    "opar=par(mfrow=c(1,2))\n",
    "qqnorm(reg1$residuals)\n",
    "qqline(reg1$residuals)\n",
    "plot(res.student~ychap,ylab=\"Residus\")"
   ]
  },
  {
   "cell_type": "code",
   "execution_count": null,
   "metadata": {
    "collapsed": false
   },
   "outputs": [],
   "source": [
    "shapiro.test(reg1$residuals)\n",
    "summary(reg1)"
   ]
  },
  {
   "cell_type": "markdown",
   "metadata": {},
   "source": [
    "### Efficacité *Y2* en fonction de la température *T*"
   ]
  },
  {
   "cell_type": "code",
   "execution_count": null,
   "metadata": {
    "collapsed": false
   },
   "outputs": [],
   "source": [
    "reg2=lm(Y2~T)\n",
    "res.student=rstudent(reg2)\n",
    "ychap=reg2$fitted.values\n",
    "opar=par(mfrow=c(1,2))\n",
    "qqnorm(reg2$residuals)\n",
    "qqline(reg2$residuals)\n",
    "plot(res.student~ychap,ylab=\"Residus\")"
   ]
  },
  {
   "cell_type": "code",
   "execution_count": null,
   "metadata": {
    "collapsed": false
   },
   "outputs": [],
   "source": [
    "shapiro.test(reg2$residuals)\n",
    "summary(reg2)"
   ]
  },
  {
   "cell_type": "markdown",
   "metadata": {},
   "source": [
    "6. Que pensez de la qualité de la régression de Y1 sur T ?"
   ]
  },
  {
   "cell_type": "markdown",
   "metadata": {},
   "source": [
    "7. Que valent le quantile 0,975 de la loi de Student à 18 degrés de liberté et l’écart-type de l’estimation de b1 ? "
   ]
  },
  {
   "cell_type": "markdown",
   "metadata": {},
   "source": [
    "8. Calculer une estimation par intervalle de confiance du paramètre b1 de cette régression."
   ]
  },
  {
   "cell_type": "markdown",
   "metadata": {},
   "source": [
    "9. Comment conclure sur l’influence de T sur Y1 (test, hypothèse, décision) ? "
   ]
  },
  {
   "cell_type": "markdown",
   "metadata": {},
   "source": [
    "10. Que pensez de la première régression calculée de Y2 sur T ?"
   ]
  },
  {
   "cell_type": "markdown",
   "metadata": {},
   "source": [
    "### 2.3 Autre approche de létude de l'efficacité *Y2*\n",
    "\n",
    "On se propose de résoudre le problème par une transformation adaptée des données ou encore, c'est équivalent, par une pondération des observations : les observations associées à des valeurs de plus grande variance sont pénalisées. Cette approche est possible car l’expérience est **planifiée** : elle est répétée 4 fois pour chaque *niveau* de température 750, 775, 800, 825, 850. Il est donc possible de calculer la variance des observations de *Y2* pour chacun des niveaux de *T*. "
   ]
  },
  {
   "cell_type": "markdown",
   "metadata": {},
   "source": [
    "11. Calculer, pour chaque niveau de température, la variance des valeurs observées de Y2. Comparer les variances obtenues."
   ]
  },
  {
   "cell_type": "code",
   "execution_count": null,
   "metadata": {
    "collapsed": false
   },
   "outputs": [],
   "source": [
    "v1=aggregate(Y2~T,FUN=var)"
   ]
  },
  {
   "cell_type": "markdown",
   "metadata": {},
   "source": [
    "12. Les inverses de ces valeurs sont rangées dans une variable `poids`. Comment ces valeurs sont-elles utilisées pour estimer les paramètres de régression ?"
   ]
  },
  {
   "cell_type": "code",
   "execution_count": null,
   "metadata": {
    "collapsed": false
   },
   "outputs": [],
   "source": [
    "v_1=1/v1\n",
    "poids=as.vector(c(1,1,1,1)%o%v_1$Y2 )\n",
    "poids"
   ]
  },
  {
   "cell_type": "markdown",
   "metadata": {},
   "source": [
    "13. Que pensez vous de la qualité (validité, qualité d’estimation) de la régression alors obtenue ?"
   ]
  },
  {
   "cell_type": "code",
   "execution_count": null,
   "metadata": {
    "collapsed": false
   },
   "outputs": [],
   "source": [
    "reg3=lm(Y2~T,weights=poids)\n",
    "res.student=rstudent(reg3)\n",
    "ychap=reg3$fitted.values\n",
    "opar=par(mfrow=c(1,2))\n",
    "qqnorm(reg3$residuals)\n",
    "qqline(reg3$residuals)\n",
    "plot(res.student~ychap,ylab=\"Residus\")"
   ]
  },
  {
   "cell_type": "code",
   "execution_count": null,
   "metadata": {
    "collapsed": false
   },
   "outputs": [],
   "source": [
    "shapiro.test(reg2$residuals)\n",
    "summary(reg2)"
   ]
  },
  {
   "cell_type": "code",
   "execution_count": null,
   "metadata": {
    "collapsed": false
   },
   "outputs": [],
   "source": [
    "predict(reg1, interval=\"confidence\")[c(1:3,18:20),]"
   ]
  },
  {
   "cell_type": "code",
   "execution_count": null,
   "metadata": {
    "collapsed": false
   },
   "outputs": [],
   "source": [
    "predict(reg2, interval=\"prediction\")[c(1:3,18:20),]"
   ]
  },
  {
   "cell_type": "markdown",
   "metadata": {},
   "source": [
    "### Complément"
   ]
  },
  {
   "cell_type": "code",
   "execution_count": null,
   "metadata": {
    "collapsed": false
   },
   "outputs": [],
   "source": [
    "opar=par(mfrow=c(1,2))\n",
    "plot(T,Y1)\n",
    "abline(reg1)\n",
    "segments(T,fitted(reg1),T, Y1)\n",
    "pred.frame<-data.frame(T=750:850)\n",
    "pc<-predict(reg1, interval=\"confidence\", newdata=pred.frame)\n",
    "pp<-predict(reg1, interval=\"prediction\", newdata=pred.frame)\n",
    "matlines(pred.frame, pc[,2:3], lty=c(2,2), col=\"blue\")\n",
    "matlines(pred.frame, pp[,2:3], lty=c(3,3), col=\"red\")\n",
    "plot(T,Y2)\n",
    "abline(reg3)\n",
    "segments(T,fitted(reg3),T, Y2)\n",
    "pred.frame<-data.frame(T=750:850)\n",
    "pc<-predict(reg3, interval=\"confidence\")\n",
    "pp<-predict(reg3, interval=\"prediction\")\n",
    "matlines(T, pc[,2:3], lty=c(2,2), col=\"blue\")\n",
    "matlines(T, pp[,2:3], lty=c(3,3), col=\"red\")"
   ]
  },
  {
   "cell_type": "markdown",
   "metadata": {},
   "source": [
    "## 3 Comparaison des fournisseurs\n",
    "Une fois les conditions optimales déterminées, de nombreuses préparations ont été réalisées selon ces mêmes conditions expérimentales à partir de substrats procurés par 3 fournisseurs : E, M et F. Les mesures obtenues sont résumées ci-dessous."
   ]
  },
  {
   "cell_type": "markdown",
   "metadata": {},
   "source": [
    "Quelles méthode mettre en œuvre permettant de comparer les rendements issus des substrats fournis par les différents fournisseurs. Quelle est l’hypothèse testée ?\n",
    "\n",
    "Quelles sont les conditions à vérifier pour la mise en œuvre d’une telle méthode ? Sont elles vérifiées ? Explicitez les hypothèses, les décisions. \n",
    "\n",
    "16. Quelle méthode faudrait-il mettre en œuvre si ces conditions n’étaient pas vérifiées ?\n",
    "17. Que dire de la comparaison des fournisseurs ?\n",
    "18. Est-il raisonnable de regrouper les fournisseurs dans des études ultérieures ?\n",
    "19. Une préparation supplémentaire est produite dans ces conditions. Dans quel intervalle son rendement aurait-il 95% de chances de se trouver ? Explicitez les calculs.\n",
    "20. Avant la mise au point du nouveau procédé, le rendement moyen des préparations de charbon actif était de l’ordre de 11%. Peut-on considérer que le rendement moyen du nouveau procédé est meilleur ? Précisez votre raisonnement"
   ]
  },
  {
   "cell_type": "code",
   "execution_count": null,
   "metadata": {
    "collapsed": false
   },
   "outputs": [],
   "source": [
    "RendE=c(7.6,11.1,18.5,12.7,7.9,11,9.1,8.1,13.6,21.2,9.5,15.1,14.5,13.5,13.8)\n",
    "RendM=c(10.4,16.7,10.4,14.7,14.2,16.8,17.9,7.7,20.7,15,14.9,15.1,12.3,10.4,19.9)\n",
    "RendF=c(10.1,13.1,1.8,11.9,8.2,5.8,5,9.8,8.1,21.5,21.5,14.7,9.6,5.9,21.6,5.4,14.8,11.5,15.8,16.1)\n",
    "Four=factor(c(rep(1,length(RendE)),rep(2,length(RendM)),rep(3,length(RendF))),labels=c(\"E\",\"M\",\"F\"))\n",
    "RendFour=data.frame(\"Rend\"=c(RendE,RendM,RendF),Four)\n",
    "summary(RendFour)\n",
    "aggregate(Rend~Four,FUN=mean,data=RendFour)"
   ]
  },
  {
   "cell_type": "code",
   "execution_count": null,
   "metadata": {
    "collapsed": false
   },
   "outputs": [],
   "source": [
    "boxplot(Rend~Four,data=RendFour)"
   ]
  },
  {
   "cell_type": "code",
   "execution_count": null,
   "metadata": {
    "collapsed": false
   },
   "outputs": [],
   "source": [
    "bartlett.test(Rend~Four,data=RendFour)"
   ]
  },
  {
   "cell_type": "code",
   "execution_count": null,
   "metadata": {
    "collapsed": false
   },
   "outputs": [],
   "source": [
    "reg4=aov(Rend~Four,data=RendFour)\n",
    "qqnorm(reg4$residuals)\n",
    "qqline(reg4$residuals)\n",
    "shapiro.test(reg4$residuals)"
   ]
  },
  {
   "cell_type": "code",
   "execution_count": null,
   "metadata": {
    "collapsed": false
   },
   "outputs": [],
   "source": [
    "summary(reg4)"
   ]
  },
  {
   "cell_type": "code",
   "execution_count": null,
   "metadata": {
    "collapsed": false
   },
   "outputs": [],
   "source": [
    "kruskal.test(Rend~Four,data=RendFour)"
   ]
  },
  {
   "cell_type": "code",
   "execution_count": null,
   "metadata": {
    "collapsed": false
   },
   "outputs": [],
   "source": [
    "t.test(RendFour$Rend)\n",
    "t.test(RendM)"
   ]
  }
 ],
 "metadata": {
  "kernelspec": {
   "display_name": "R",
   "language": "R",
   "name": "ir"
  },
  "language_info": {
   "codemirror_mode": "r",
   "file_extension": ".r",
   "mimetype": "text/x-r-source",
   "name": "R",
   "pygments_lexer": "r",
   "version": "3.3.2"
  }
 },
 "nbformat": 4,
 "nbformat_minor": 0
}
